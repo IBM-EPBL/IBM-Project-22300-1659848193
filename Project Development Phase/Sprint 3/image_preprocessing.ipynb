{
  "nbformat": 4,
  "nbformat_minor": 0,
  "metadata": {
    "colab": {
      "provenance": []
    },
    "kernelspec": {
      "name": "python3",
      "display_name": "Python 3"
    },
    "language_info": {
      "name": "python"
    }
  },
  "cells": [
    {
      "cell_type": "code",
      "execution_count": 1,
      "metadata": {
        "colab": {
          "base_uri": "https://localhost:8080/"
        },
        "id": "hzwjeGe1LY4r",
        "outputId": "c5171952-99f8-468b-a5ce-c90cf123d8ca"
      },
      "outputs": [
        {
          "output_type": "stream",
          "name": "stdout",
          "text": [
            "Mounted at /content/drive\n"
          ]
        }
      ],
      "source": [
        "from google.colab import drive\n",
        "drive.mount('/content/drive')"
      ]
    },
    {
      "cell_type": "code",
      "source": [
        "import numpy as np\n",
        "import pandas as pd\n",
        "import matplotlib.pyplot as plt\n",
        "import os\n",
        "\n",
        "import keras\n",
        "import tensorflow\n",
        "from keras.preprocessing.image import ImageDataGenerator\n",
        "from keras.applications.vgg19 import VGG19,preprocess_input,decode_predictions\n",
        "from tensorflow.keras.utils import img_to_array\n",
        "from keras_preprocessing.image import load_img"
      ],
      "metadata": {
        "id": "9Sawac54L25q"
      },
      "execution_count": 6,
      "outputs": []
    },
    {
      "cell_type": "code",
      "source": [
        "train_datagen = ImageDataGenerator(zoom_range=0.5,shear_range=0.3,horizontal_flip=True,preprocessing_function= preprocess_input)\n",
        "val_datagen = ImageDataGenerator(rescale= 1/255)"
      ],
      "metadata": {
        "id": "iQgB8gAGL59Q"
      },
      "execution_count": 7,
      "outputs": []
    },
    {
      "cell_type": "code",
      "source": [
        "x_train=train_datagen.flow_from_directory(r'/content/drive/MyDrive/dataset/New Plant Disease Dataset(Augmented)/train',target_size=(256,256),class_mode='categorical',batch_size=32)\n",
        "\n",
        "x_val=val_datagen.flow_from_directory(r'/content/drive/MyDrive/dataset/New Plant Disease Dataset(Augmented)/valid',target_size=(256,256),class_mode='categorical',batch_size=32)"
      ],
      "metadata": {
        "colab": {
          "base_uri": "https://localhost:8080/"
        },
        "id": "jlu0rbP5MEvV",
        "outputId": "da1f5969-afb3-4c78-93e8-0f7eb4e5aa55"
      },
      "execution_count": 8,
      "outputs": [
        {
          "output_type": "stream",
          "name": "stdout",
          "text": [
            "Found 46557 images belonging to 38 classes.\n",
            "Found 17572 images belonging to 38 classes.\n"
          ]
        }
      ]
    },
    {
      "cell_type": "code",
      "source": [],
      "metadata": {
        "id": "fniP5bbPMTpz"
      },
      "execution_count": null,
      "outputs": []
    }
  ]
}